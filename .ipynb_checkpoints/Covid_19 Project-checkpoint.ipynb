{
 "cells": [
  {
   "cell_type": "markdown",
   "metadata": {},
   "source": [
    "<h1 style=\"font-family: Trebuchet MS; padding: 12px; font-size: 48px; color: #568203; text-align: center; line-height: 1.25;\"><b>🦠🦠 Covid-19 <span style=\"color: #000000\"> Project 🧼👐💦</span></b><br><span style=\"color: #8CB743; font-size: 24px\"></span></h1>\n",
    "<hr>\n",
    "\n",
    "<center>\n",
    "\n",
    "> <h1><span style=\"color:purple \"> Mina Adel Markos -- junior Data Scientist</span></h2>\n",
    "    \n",
    "> <h3><b><span style=\"color:navy\">LINKEDIN :- </span><a href='https://www.linkedin.com/in/mina-markos-343b8b171/'><b>Click HERE</b></a> </b></h3>  \n",
    "> <h3><b><span style=\"color:navy\"> GITHUB :- </span> <a href='https://github.com/MINAADELMARKOS'><b>Click HERE</b></a> </b></h3>\n",
    "\n",
    "</center>"
   ]
  },
  {
   "cell_type": "markdown",
   "metadata": {
    "id": "4QPY8IlbNmHh"
   },
   "source": [
    "\n",
    "\n",
    "# Coronavirus disease (COVID-19)\n",
    "\n",
    "Coronavirus disease (COVID-19) is an infectious disease caused by the SARS-CoV-2 virus.\n",
    "\n",
    "Most people infected with the virus will experience mild to moderate respiratory illness and recover without requiring special treatment. However, some will become seriously ill and require medical attention. Older people and those with underlying medical conditions like cardiovascular disease, diabetes, chronic respiratory disease, or cancer are more likely to develop serious illness. Anyone can get sick with COVID-19 and become seriously ill or die at any age. \n",
    "The virus can spread from an infected person’s mouth or nose in small liquid particles when they cough, sneeze, speak, sing or breathe. These particles range from larger respiratory droplets to smaller aerosols. It is important to practice respiratory etiquette, for example by coughing into a flexed elbow, and to stay home and self-isolate until you recover if you feel unwell.\n",
    "\n",
    "\n",
    "<center>\n",
    "    <img src=\"covid.png\" alt=\"\" width=\"800px\" height=\"250px\"/>\n",
    "</center>\n",
    "\n",
    "\n",
    "\n",
    "# Context\n",
    "\n",
    "*   A new coronavirus designated 2019-nCoV was first identified in Wuhan, the capital of China's Hubei province\n",
    "*   People developed pneumonia without a clear cause and for which existing vaccines or treatments were not effective.\n",
    "*   The virus has shown evidence of human-to-human transmission\n",
    "*   Transmission rate (rate of infection) appeared to escalate in mid-January 2020\n",
    "*   As of 30 January 2020, approximately 8,243 cases have been confirmed\n",
    "\n",
    "\n",
    "# Acknowledgements\n",
    "\n",
    "Thanks to Indian Ministry of Health & Family Welfare for making the data available to general public.\n",
    "\n",
    "Thanks to covid19india.org for making the individual level details, testing details, vaccination details available to general public.\n",
    "\n",
    "Thanks to Wikipedia for population information.\n",
    "\n",
    "Thanks to the Team at ISIBang\n",
    "\n",
    "Photo Courtesy - https://hgis.uw.edu/virus/"
   ]
  },
  {
   "cell_type": "markdown",
   "metadata": {},
   "source": [
    "\n",
    "<h1 style=\"font-family: Trebuchet MS; background-color: #8CB743; color: #FFFFFF; padding: 14px; line-height: 1.5;\"> Importing Libraries</h1></div>"
   ]
  },
  {
   "cell_type": "code",
   "execution_count": 1,
   "metadata": {
    "id": "bqufQGv8KNFD"
   },
   "outputs": [],
   "source": [
    "import pandas as pd\n",
    "import numpy as np\n",
    "import seaborn as sns\n",
    "from IPython.display import Image\n",
    "from matplotlib import pyplot as plt\n",
    "from plotly import express as px\n",
    "import datetime as dt\n",
    "import os\n",
    "from PIL import Image\n",
    "import plotly.express as px\n",
    "import plotly.graph_objects as go\n",
    "import jinja2\n",
    "import warnings\n",
    "\n",
    "\n",
    "sns.set(rc={'figure.figsize':[10,10]}, font_scale=1.2)\n",
    "sns.set(style='whitegrid',)"
   ]
  },
  {
   "cell_type": "code",
   "execution_count": 2,
   "metadata": {
    "id": "QEp1fyGTs24c"
   },
   "outputs": [],
   "source": [
    "#show all coulmn and rows\n",
    "pd.set_option('display.max_columns',15)\n",
    "pd.set_option('display.max_rows',10)"
   ]
  },
  {
   "cell_type": "markdown",
   "metadata": {},
   "source": [
    "<h1 style=\"font-family: Trebuchet MS; background-color: #8CB743; color: #FFFFFF; padding: 14px; line-height: 1.5;\"> Domain Defintion 🔬</h1></div>\n",
    "<div style=\"font-family: Segoe UI; line-height: 2; color: #000000; text-align: justify\">\n",
    "    <blockquote style=\"text-align: justify; color: #000000;\">\n",
    "          <b>Everyone is aware of the coronavirus's negative consequences, thus my goal in this project is to demonstrate how the illness affects each continent and which places are the epicenters of this sickness.</b> So, they are some of the questions I'll be answering through data analysis, such as:\n",
    "        <ul>\n",
    "            <li> What are the number (total) of covid-19 cases?</li>\n",
    "            <li> Which Country has the highest number od covid-19 cases?</li>\n",
    "            <li> Which Country has the highest number od covid-19 cases?</li>\n",
    "            <li> Global Distribution of Covid-19 cases ?</li>\n",
    "            <li> How Many fetal cases due to covid-19?</li>\n",
    "            <li> What is the recovery rate for covid-19 zcross the world ? </li>\n",
    "            "
   ]
  },
  {
   "cell_type": "markdown",
   "metadata": {},
   "source": [
    "<h1 style=\"font-family: Trebuchet MS; background-color: #8CB743; color: #FFFFFF; padding: 14px; line-height: 1.5;\"> Import Data as Dataframe</h1></div>"
   ]
  },
  {
   "cell_type": "code",
   "execution_count": 3,
   "metadata": {
    "id": "a3wrovsUWnSm"
   },
   "outputs": [],
   "source": [
    "df1=pd.read_csv(r'covid_19.csv')\n",
    "df2=pd.read_excel(r'Continent_Country_Mapping.xlsx')"
   ]
  },
  {
   "cell_type": "code",
   "execution_count": 28,
   "metadata": {},
   "outputs": [
    {
     "name": "stderr",
     "output_type": "stream",
     "text": [
      "C:\\Users\\Mina\\AppData\\Local\\Temp\\ipykernel_21536\\4274314412.py:1: FutureWarning: this method is deprecated in favour of `Styler.hide(axis='index')`\n",
      "  df1.head().style.background_gradient(cmap='Greens').set_properties(**{'font-family': 'Segoe UI'}).hide_index()\n"
     ]
    },
    {
     "data": {
      "text/html": [
       "<style type=\"text/css\">\n",
       "#T_25d36_row0_col0, #T_25d36_row0_col1, #T_25d36_row0_col8, #T_25d36_row1_col0, #T_25d36_row1_col1, #T_25d36_row1_col8, #T_25d36_row2_col0, #T_25d36_row2_col1, #T_25d36_row2_col8, #T_25d36_row3_col0, #T_25d36_row3_col1, #T_25d36_row3_col8, #T_25d36_row4_col0, #T_25d36_row4_col1, #T_25d36_row4_col8 {\n",
       "  font-family: Segoe UI;\n",
       "}\n",
       "#T_25d36_row0_col2 {\n",
       "  background-color: #097532;\n",
       "  color: #f1f1f1;\n",
       "  font-family: Segoe UI;\n",
       "}\n",
       "#T_25d36_row0_col3, #T_25d36_row2_col4, #T_25d36_row2_col5, #T_25d36_row2_col6, #T_25d36_row2_col7, #T_25d36_row2_col11, #T_25d36_row3_col2, #T_25d36_row3_col9, #T_25d36_row3_col10, #T_25d36_row4_col10, #T_25d36_row4_col12 {\n",
       "  background-color: #00441b;\n",
       "  color: #f1f1f1;\n",
       "  font-family: Segoe UI;\n",
       "}\n",
       "#T_25d36_row0_col4 {\n",
       "  background-color: #127c39;\n",
       "  color: #f1f1f1;\n",
       "  font-family: Segoe UI;\n",
       "}\n",
       "#T_25d36_row0_col5 {\n",
       "  background-color: #006529;\n",
       "  color: #f1f1f1;\n",
       "  font-family: Segoe UI;\n",
       "}\n",
       "#T_25d36_row0_col6 {\n",
       "  background-color: #005b25;\n",
       "  color: #f1f1f1;\n",
       "  font-family: Segoe UI;\n",
       "}\n",
       "#T_25d36_row0_col7 {\n",
       "  background-color: #7ac77b;\n",
       "  color: #000000;\n",
       "  font-family: Segoe UI;\n",
       "}\n",
       "#T_25d36_row0_col9 {\n",
       "  background-color: #f0f9ec;\n",
       "  color: #000000;\n",
       "  font-family: Segoe UI;\n",
       "}\n",
       "#T_25d36_row0_col10 {\n",
       "  background-color: #3fa85b;\n",
       "  color: #f1f1f1;\n",
       "  font-family: Segoe UI;\n",
       "}\n",
       "#T_25d36_row0_col11 {\n",
       "  background-color: #03702e;\n",
       "  color: #f1f1f1;\n",
       "  font-family: Segoe UI;\n",
       "}\n",
       "#T_25d36_row0_col12, #T_25d36_row1_col10, #T_25d36_row2_col3, #T_25d36_row3_col3, #T_25d36_row3_col4, #T_25d36_row3_col5, #T_25d36_row3_col6, #T_25d36_row3_col7, #T_25d36_row3_col11, #T_25d36_row4_col2, #T_25d36_row4_col9 {\n",
       "  background-color: #f7fcf5;\n",
       "  color: #000000;\n",
       "  font-family: Segoe UI;\n",
       "}\n",
       "#T_25d36_row1_col2 {\n",
       "  background-color: #004c1e;\n",
       "  color: #f1f1f1;\n",
       "  font-family: Segoe UI;\n",
       "}\n",
       "#T_25d36_row1_col3 {\n",
       "  background-color: #bde5b6;\n",
       "  color: #000000;\n",
       "  font-family: Segoe UI;\n",
       "}\n",
       "#T_25d36_row1_col4 {\n",
       "  background-color: #d2edcc;\n",
       "  color: #000000;\n",
       "  font-family: Segoe UI;\n",
       "}\n",
       "#T_25d36_row1_col5 {\n",
       "  background-color: #d9f0d3;\n",
       "  color: #000000;\n",
       "  font-family: Segoe UI;\n",
       "}\n",
       "#T_25d36_row1_col6, #T_25d36_row3_col12 {\n",
       "  background-color: #dbf1d6;\n",
       "  color: #000000;\n",
       "  font-family: Segoe UI;\n",
       "}\n",
       "#T_25d36_row1_col7, #T_25d36_row2_col10 {\n",
       "  background-color: #b2e0ac;\n",
       "  color: #000000;\n",
       "  font-family: Segoe UI;\n",
       "}\n",
       "#T_25d36_row1_col9 {\n",
       "  background-color: #cfecc9;\n",
       "  color: #000000;\n",
       "  font-family: Segoe UI;\n",
       "}\n",
       "#T_25d36_row1_col11 {\n",
       "  background-color: #d6efd0;\n",
       "  color: #000000;\n",
       "  font-family: Segoe UI;\n",
       "}\n",
       "#T_25d36_row1_col12 {\n",
       "  background-color: #72c375;\n",
       "  color: #000000;\n",
       "  font-family: Segoe UI;\n",
       "}\n",
       "#T_25d36_row2_col2 {\n",
       "  background-color: #278f48;\n",
       "  color: #f1f1f1;\n",
       "  font-family: Segoe UI;\n",
       "}\n",
       "#T_25d36_row2_col9 {\n",
       "  background-color: #eff9eb;\n",
       "  color: #000000;\n",
       "  font-family: Segoe UI;\n",
       "}\n",
       "#T_25d36_row2_col12 {\n",
       "  background-color: #d0edca;\n",
       "  color: #000000;\n",
       "  font-family: Segoe UI;\n",
       "}\n",
       "#T_25d36_row4_col3 {\n",
       "  background-color: #c8e9c1;\n",
       "  color: #000000;\n",
       "  font-family: Segoe UI;\n",
       "}\n",
       "#T_25d36_row4_col4 {\n",
       "  background-color: #f2faef;\n",
       "  color: #000000;\n",
       "  font-family: Segoe UI;\n",
       "}\n",
       "#T_25d36_row4_col5 {\n",
       "  background-color: #f0f9ed;\n",
       "  color: #000000;\n",
       "  font-family: Segoe UI;\n",
       "}\n",
       "#T_25d36_row4_col6 {\n",
       "  background-color: #f6fcf4;\n",
       "  color: #000000;\n",
       "  font-family: Segoe UI;\n",
       "}\n",
       "#T_25d36_row4_col7 {\n",
       "  background-color: #e6f5e1;\n",
       "  color: #000000;\n",
       "  font-family: Segoe UI;\n",
       "}\n",
       "#T_25d36_row4_col11 {\n",
       "  background-color: #f4fbf1;\n",
       "  color: #000000;\n",
       "  font-family: Segoe UI;\n",
       "}\n",
       "</style>\n",
       "<table id=\"T_25d36\">\n",
       "  <thead>\n",
       "    <tr>\n",
       "      <th id=\"T_25d36_level0_col0\" class=\"col_heading level0 col0\" >country_region</th>\n",
       "      <th id=\"T_25d36_level0_col1\" class=\"col_heading level0 col1\" >last_update</th>\n",
       "      <th id=\"T_25d36_level0_col2\" class=\"col_heading level0 col2\" >lat</th>\n",
       "      <th id=\"T_25d36_level0_col3\" class=\"col_heading level0 col3\" >long_</th>\n",
       "      <th id=\"T_25d36_level0_col4\" class=\"col_heading level0 col4\" >confirmed</th>\n",
       "      <th id=\"T_25d36_level0_col5\" class=\"col_heading level0 col5\" >deaths</th>\n",
       "      <th id=\"T_25d36_level0_col6\" class=\"col_heading level0 col6\" >recovered</th>\n",
       "      <th id=\"T_25d36_level0_col7\" class=\"col_heading level0 col7\" >active</th>\n",
       "      <th id=\"T_25d36_level0_col8\" class=\"col_heading level0 col8\" >combined_key</th>\n",
       "      <th id=\"T_25d36_level0_col9\" class=\"col_heading level0 col9\" >incidence_rate</th>\n",
       "      <th id=\"T_25d36_level0_col10\" class=\"col_heading level0 col10\" >case-fatality_ratio</th>\n",
       "      <th id=\"T_25d36_level0_col11\" class=\"col_heading level0 col11\" >total</th>\n",
       "      <th id=\"T_25d36_level0_col12\" class=\"col_heading level0 col12\" >rate_of_cure</th>\n",
       "    </tr>\n",
       "  </thead>\n",
       "  <tbody>\n",
       "    <tr>\n",
       "      <td id=\"T_25d36_row0_col0\" class=\"data row0 col0\" >Afghanistan</td>\n",
       "      <td id=\"T_25d36_row0_col1\" class=\"data row0 col1\" >2020-09-10 04:29:01</td>\n",
       "      <td id=\"T_25d36_row0_col2\" class=\"data row0 col2\" >33.939110</td>\n",
       "      <td id=\"T_25d36_row0_col3\" class=\"data row0 col3\" >67.709953</td>\n",
       "      <td id=\"T_25d36_row0_col4\" class=\"data row0 col4\" >38544</td>\n",
       "      <td id=\"T_25d36_row0_col5\" class=\"data row0 col5\" >1420</td>\n",
       "      <td id=\"T_25d36_row0_col6\" class=\"data row0 col6\" >31048</td>\n",
       "      <td id=\"T_25d36_row0_col7\" class=\"data row0 col7\" >6076.000000</td>\n",
       "      <td id=\"T_25d36_row0_col8\" class=\"data row0 col8\" >Afghanistan</td>\n",
       "      <td id=\"T_25d36_row0_col9\" class=\"data row0 col9\" >99.012696</td>\n",
       "      <td id=\"T_25d36_row0_col10\" class=\"data row0 col10\" >3.684101</td>\n",
       "      <td id=\"T_25d36_row0_col11\" class=\"data row0 col11\" >71012</td>\n",
       "      <td id=\"T_25d36_row0_col12\" class=\"data row0 col12\" >54.280000</td>\n",
       "    </tr>\n",
       "    <tr>\n",
       "      <td id=\"T_25d36_row1_col0\" class=\"data row1 col0\" >Albania</td>\n",
       "      <td id=\"T_25d36_row1_col1\" class=\"data row1 col1\" >2020-09-10 04:29:01</td>\n",
       "      <td id=\"T_25d36_row1_col2\" class=\"data row1 col2\" >41.153300</td>\n",
       "      <td id=\"T_25d36_row1_col3\" class=\"data row1 col3\" >20.168300</td>\n",
       "      <td id=\"T_25d36_row1_col4\" class=\"data row1 col4\" >10704</td>\n",
       "      <td id=\"T_25d36_row1_col5\" class=\"data row1 col5\" >322</td>\n",
       "      <td id=\"T_25d36_row1_col6\" class=\"data row1 col6\" >6284</td>\n",
       "      <td id=\"T_25d36_row1_col7\" class=\"data row1 col7\" >4098.000000</td>\n",
       "      <td id=\"T_25d36_row1_col8\" class=\"data row1 col8\" >Albania</td>\n",
       "      <td id=\"T_25d36_row1_col9\" class=\"data row1 col9\" >371.950796</td>\n",
       "      <td id=\"T_25d36_row1_col10\" class=\"data row1 col10\" >3.008221</td>\n",
       "      <td id=\"T_25d36_row1_col11\" class=\"data row1 col11\" >17310</td>\n",
       "      <td id=\"T_25d36_row1_col12\" class=\"data row1 col12\" >61.840000</td>\n",
       "    </tr>\n",
       "    <tr>\n",
       "      <td id=\"T_25d36_row2_col0\" class=\"data row2 col0\" >Algeria</td>\n",
       "      <td id=\"T_25d36_row2_col1\" class=\"data row2 col1\" >2020-09-10 04:29:01</td>\n",
       "      <td id=\"T_25d36_row2_col2\" class=\"data row2 col2\" >28.033900</td>\n",
       "      <td id=\"T_25d36_row2_col3\" class=\"data row2 col3\" >1.659600</td>\n",
       "      <td id=\"T_25d36_row2_col4\" class=\"data row2 col4\" >47216</td>\n",
       "      <td id=\"T_25d36_row2_col5\" class=\"data row2 col5\" >1581</td>\n",
       "      <td id=\"T_25d36_row2_col6\" class=\"data row2 col6\" >33379</td>\n",
       "      <td id=\"T_25d36_row2_col7\" class=\"data row2 col7\" >12256.000000</td>\n",
       "      <td id=\"T_25d36_row2_col8\" class=\"data row2 col8\" >Algeria</td>\n",
       "      <td id=\"T_25d36_row2_col9\" class=\"data row2 col9\" >107.673608</td>\n",
       "      <td id=\"T_25d36_row2_col10\" class=\"data row2 col10\" >3.348441</td>\n",
       "      <td id=\"T_25d36_row2_col11\" class=\"data row2 col11\" >82176</td>\n",
       "      <td id=\"T_25d36_row2_col12\" class=\"data row2 col12\" >57.460000</td>\n",
       "    </tr>\n",
       "    <tr>\n",
       "      <td id=\"T_25d36_row3_col0\" class=\"data row3 col0\" >Andorra</td>\n",
       "      <td id=\"T_25d36_row3_col1\" class=\"data row3 col1\" >2020-09-10 04:29:01</td>\n",
       "      <td id=\"T_25d36_row3_col2\" class=\"data row3 col2\" >42.506300</td>\n",
       "      <td id=\"T_25d36_row3_col3\" class=\"data row3 col3\" >1.521800</td>\n",
       "      <td id=\"T_25d36_row3_col4\" class=\"data row3 col4\" >1301</td>\n",
       "      <td id=\"T_25d36_row3_col5\" class=\"data row3 col5\" >53</td>\n",
       "      <td id=\"T_25d36_row3_col6\" class=\"data row3 col6\" >938</td>\n",
       "      <td id=\"T_25d36_row3_col7\" class=\"data row3 col7\" >310.000000</td>\n",
       "      <td id=\"T_25d36_row3_col8\" class=\"data row3 col8\" >Andorra</td>\n",
       "      <td id=\"T_25d36_row3_col9\" class=\"data row3 col9\" >1683.815440</td>\n",
       "      <td id=\"T_25d36_row3_col10\" class=\"data row3 col10\" >4.073789</td>\n",
       "      <td id=\"T_25d36_row3_col11\" class=\"data row3 col11\" >2292</td>\n",
       "      <td id=\"T_25d36_row3_col12\" class=\"data row3 col12\" >56.760000</td>\n",
       "    </tr>\n",
       "    <tr>\n",
       "      <td id=\"T_25d36_row4_col0\" class=\"data row4 col0\" >Angola</td>\n",
       "      <td id=\"T_25d36_row4_col1\" class=\"data row4 col1\" >2020-09-10 04:29:01</td>\n",
       "      <td id=\"T_25d36_row4_col2\" class=\"data row4 col2\" >-11.202700</td>\n",
       "      <td id=\"T_25d36_row4_col3\" class=\"data row4 col3\" >17.873900</td>\n",
       "      <td id=\"T_25d36_row4_col4\" class=\"data row4 col4\" >3092</td>\n",
       "      <td id=\"T_25d36_row4_col5\" class=\"data row4 col5\" >126</td>\n",
       "      <td id=\"T_25d36_row4_col6\" class=\"data row4 col6\" >1245</td>\n",
       "      <td id=\"T_25d36_row4_col7\" class=\"data row4 col7\" >1721.000000</td>\n",
       "      <td id=\"T_25d36_row4_col8\" class=\"data row4 col8\" >Angola</td>\n",
       "      <td id=\"T_25d36_row4_col9\" class=\"data row4 col9\" >9.407822</td>\n",
       "      <td id=\"T_25d36_row4_col10\" class=\"data row4 col10\" >4.075032</td>\n",
       "      <td id=\"T_25d36_row4_col11\" class=\"data row4 col11\" >4463</td>\n",
       "      <td id=\"T_25d36_row4_col12\" class=\"data row4 col12\" >69.280000</td>\n",
       "    </tr>\n",
       "  </tbody>\n",
       "</table>\n"
      ],
      "text/plain": [
       "<pandas.io.formats.style.Styler at 0x2a48bb2e500>"
      ]
     },
     "execution_count": 28,
     "metadata": {},
     "output_type": "execute_result"
    }
   ],
   "source": [
    "df1.head().style.background_gradient(cmap='Greens').set_properties(**{'font-family': 'Segoe UI'}).hide_index()"
   ]
  },
  {
   "cell_type": "code",
   "execution_count": 26,
   "metadata": {},
   "outputs": [
    {
     "name": "stderr",
     "output_type": "stream",
     "text": [
      "C:\\Users\\Mina\\AppData\\Local\\Temp\\ipykernel_21536\\956988035.py:1: FutureWarning: this method is deprecated in favour of `Styler.hide(axis='index')`\n",
      "  df2.head().style.background_gradient(cmap='Greens').set_properties(**{'font-family': 'Segoe UI'}).hide_index()\n"
     ]
    },
    {
     "data": {
      "text/html": [
       "<style type=\"text/css\">\n",
       "#T_f3e6f_row0_col0, #T_f3e6f_row0_col1, #T_f3e6f_row0_col2, #T_f3e6f_row1_col0, #T_f3e6f_row1_col1, #T_f3e6f_row1_col2, #T_f3e6f_row2_col0, #T_f3e6f_row2_col1, #T_f3e6f_row2_col2, #T_f3e6f_row3_col0, #T_f3e6f_row3_col1, #T_f3e6f_row3_col2, #T_f3e6f_row4_col0, #T_f3e6f_row4_col1, #T_f3e6f_row4_col2 {\n",
       "  font-family: Segoe UI;\n",
       "}\n",
       "</style>\n",
       "<table id=\"T_f3e6f\">\n",
       "  <thead>\n",
       "    <tr>\n",
       "      <th id=\"T_f3e6f_level0_col0\" class=\"col_heading level0 col0\" >country_name</th>\n",
       "      <th id=\"T_f3e6f_level0_col1\" class=\"col_heading level0 col1\" >continent_name</th>\n",
       "      <th id=\"T_f3e6f_level0_col2\" class=\"col_heading level0 col2\" >continent_code</th>\n",
       "    </tr>\n",
       "  </thead>\n",
       "  <tbody>\n",
       "    <tr>\n",
       "      <td id=\"T_f3e6f_row0_col0\" class=\"data row0 col0\" >Afghanistan</td>\n",
       "      <td id=\"T_f3e6f_row0_col1\" class=\"data row0 col1\" >Asia</td>\n",
       "      <td id=\"T_f3e6f_row0_col2\" class=\"data row0 col2\" >AS</td>\n",
       "    </tr>\n",
       "    <tr>\n",
       "      <td id=\"T_f3e6f_row1_col0\" class=\"data row1 col0\" >Albania</td>\n",
       "      <td id=\"T_f3e6f_row1_col1\" class=\"data row1 col1\" >Europe</td>\n",
       "      <td id=\"T_f3e6f_row1_col2\" class=\"data row1 col2\" >EU</td>\n",
       "    </tr>\n",
       "    <tr>\n",
       "      <td id=\"T_f3e6f_row2_col0\" class=\"data row2 col0\" >Algeria</td>\n",
       "      <td id=\"T_f3e6f_row2_col1\" class=\"data row2 col1\" >Africa</td>\n",
       "      <td id=\"T_f3e6f_row2_col2\" class=\"data row2 col2\" >AF</td>\n",
       "    </tr>\n",
       "    <tr>\n",
       "      <td id=\"T_f3e6f_row3_col0\" class=\"data row3 col0\" >Andorra</td>\n",
       "      <td id=\"T_f3e6f_row3_col1\" class=\"data row3 col1\" >Europe</td>\n",
       "      <td id=\"T_f3e6f_row3_col2\" class=\"data row3 col2\" >EU</td>\n",
       "    </tr>\n",
       "    <tr>\n",
       "      <td id=\"T_f3e6f_row4_col0\" class=\"data row4 col0\" >Angola</td>\n",
       "      <td id=\"T_f3e6f_row4_col1\" class=\"data row4 col1\" >Africa</td>\n",
       "      <td id=\"T_f3e6f_row4_col2\" class=\"data row4 col2\" >AF</td>\n",
       "    </tr>\n",
       "  </tbody>\n",
       "</table>\n"
      ],
      "text/plain": [
       "<pandas.io.formats.style.Styler at 0x2a48bb2cb80>"
      ]
     },
     "execution_count": 26,
     "metadata": {},
     "output_type": "execute_result"
    }
   ],
   "source": [
    "df2.head().style.background_gradient(cmap='Greens').set_properties(**{'font-family': 'Segoe UI'}).hide_index()"
   ]
  },
  {
   "cell_type": "markdown",
   "metadata": {},
   "source": [
    "<h1 style=\"font-family: Trebuchet MS; background-color: #8CB743; color: #FFFFFF; padding: 14px; line-height: 1.5;\"> Explotratory Data Analysis</h1></div>"
   ]
  },
  {
   "cell_type": "code",
   "execution_count": 6,
   "metadata": {
    "colab": {
     "base_uri": "https://localhost:8080/"
    },
    "id": "EEmP4n7lK5H4",
    "outputId": "a6f79d4d-3b9a-4948-e0ea-d93b31b4f670"
   },
   "outputs": [
    {
     "name": "stdout",
     "output_type": "stream",
     "text": [
      "<class 'pandas.core.frame.DataFrame'>\n",
      "RangeIndex: 3954 entries, 0 to 3953\n",
      "Data columns (total 14 columns):\n",
      " #   Column               Non-Null Count  Dtype  \n",
      "---  ------               --------------  -----  \n",
      " 0   FIPS                 3259 non-null   float64\n",
      " 1   Admin2               3264 non-null   object \n",
      " 2   Province_State       3786 non-null   object \n",
      " 3   Country_Region       3954 non-null   object \n",
      " 4   Last_Update          3954 non-null   object \n",
      " 5   Lat                  3874 non-null   float64\n",
      " 6   Long_                3874 non-null   float64\n",
      " 7   Confirmed            3954 non-null   int64  \n",
      " 8   Deaths               3954 non-null   int64  \n",
      " 9   Recovered            3954 non-null   int64  \n",
      " 10  Active               3951 non-null   float64\n",
      " 11  Combined_Key         3954 non-null   object \n",
      " 12  Incidence_Rate       3874 non-null   float64\n",
      " 13  Case-Fatality_Ratio  3903 non-null   float64\n",
      "dtypes: float64(6), int64(3), object(5)\n",
      "memory usage: 432.6+ KB\n"
     ]
    }
   ],
   "source": [
    "df1.info()"
   ]
  },
  {
   "cell_type": "code",
   "execution_count": 7,
   "metadata": {
    "colab": {
     "base_uri": "https://localhost:8080/"
    },
    "id": "ani7NxAFXdDP",
    "outputId": "3130f362-ddaa-423a-ec05-959194dbbf61"
   },
   "outputs": [
    {
     "name": "stdout",
     "output_type": "stream",
     "text": [
      "<class 'pandas.core.frame.DataFrame'>\n",
      "RangeIndex: 182 entries, 0 to 181\n",
      "Data columns (total 3 columns):\n",
      " #   Column          Non-Null Count  Dtype \n",
      "---  ------          --------------  ----- \n",
      " 0   Country_Name    182 non-null    object\n",
      " 1   Continent_Name  175 non-null    object\n",
      " 2   Continent_Code  153 non-null    object\n",
      "dtypes: object(3)\n",
      "memory usage: 4.4+ KB\n"
     ]
    }
   ],
   "source": [
    "df2.info()"
   ]
  },
  {
   "cell_type": "code",
   "execution_count": 8,
   "metadata": {
    "colab": {
     "base_uri": "https://localhost:8080/",
     "height": 175
    },
    "id": "PkikKKC2Xfg4",
    "outputId": "30375aed-8a7f-4dd3-c45b-bf0ddd8f9325"
   },
   "outputs": [
    {
     "data": {
      "text/html": [
       "<div>\n",
       "<style scoped>\n",
       "    .dataframe tbody tr th:only-of-type {\n",
       "        vertical-align: middle;\n",
       "    }\n",
       "\n",
       "    .dataframe tbody tr th {\n",
       "        vertical-align: top;\n",
       "    }\n",
       "\n",
       "    .dataframe thead th {\n",
       "        text-align: right;\n",
       "    }\n",
       "</style>\n",
       "<table border=\"1\" class=\"dataframe\">\n",
       "  <thead>\n",
       "    <tr style=\"text-align: right;\">\n",
       "      <th></th>\n",
       "      <th>Admin2</th>\n",
       "      <th>Province_State</th>\n",
       "      <th>Country_Region</th>\n",
       "      <th>Last_Update</th>\n",
       "      <th>Combined_Key</th>\n",
       "    </tr>\n",
       "  </thead>\n",
       "  <tbody>\n",
       "    <tr>\n",
       "      <th>count</th>\n",
       "      <td>3264</td>\n",
       "      <td>3786</td>\n",
       "      <td>3954</td>\n",
       "      <td>3954</td>\n",
       "      <td>3954</td>\n",
       "    </tr>\n",
       "    <tr>\n",
       "      <th>unique</th>\n",
       "      <td>1919</td>\n",
       "      <td>562</td>\n",
       "      <td>188</td>\n",
       "      <td>3</td>\n",
       "      <td>3954</td>\n",
       "    </tr>\n",
       "    <tr>\n",
       "      <th>top</th>\n",
       "      <td>Unassigned</td>\n",
       "      <td>Texas</td>\n",
       "      <td>US</td>\n",
       "      <td>2020-09-10 04:29:01</td>\n",
       "      <td>Afghanistan</td>\n",
       "    </tr>\n",
       "    <tr>\n",
       "      <th>freq</th>\n",
       "      <td>51</td>\n",
       "      <td>255</td>\n",
       "      <td>3270</td>\n",
       "      <td>3951</td>\n",
       "      <td>1</td>\n",
       "    </tr>\n",
       "  </tbody>\n",
       "</table>\n",
       "</div>"
      ],
      "text/plain": [
       "            Admin2 Province_State Country_Region          Last_Update  \\\n",
       "count         3264           3786           3954                 3954   \n",
       "unique        1919            562            188                    3   \n",
       "top     Unassigned          Texas             US  2020-09-10 04:29:01   \n",
       "freq            51            255           3270                 3951   \n",
       "\n",
       "       Combined_Key  \n",
       "count          3954  \n",
       "unique         3954  \n",
       "top     Afghanistan  \n",
       "freq              1  "
      ]
     },
     "execution_count": 8,
     "metadata": {},
     "output_type": "execute_result"
    }
   ],
   "source": [
    "df1.describe(include='O')"
   ]
  },
  {
   "cell_type": "code",
   "execution_count": 9,
   "metadata": {
    "colab": {
     "base_uri": "https://localhost:8080/"
    },
    "id": "KiM-XDIkXxuQ",
    "outputId": "17330f5d-8854-49b2-f252-592dbe95fbaf"
   },
   "outputs": [
    {
     "data": {
      "text/plain": [
       "0"
      ]
     },
     "execution_count": 9,
     "metadata": {},
     "output_type": "execute_result"
    }
   ],
   "source": [
    "# Checking duplicates\n",
    "df1.duplicated().sum()"
   ]
  },
  {
   "cell_type": "code",
   "execution_count": 10,
   "metadata": {
    "colab": {
     "base_uri": "https://localhost:8080/"
    },
    "id": "9R9-RuOJX032",
    "outputId": "fd08da33-f179-45d1-c9cc-5c2780b5e050"
   },
   "outputs": [
    {
     "data": {
      "text/plain": [
       "FIPS                   695\n",
       "Admin2                 690\n",
       "Province_State         168\n",
       "Country_Region           0\n",
       "Last_Update              0\n",
       "                      ... \n",
       "Recovered                0\n",
       "Active                   3\n",
       "Combined_Key             0\n",
       "Incidence_Rate          80\n",
       "Case-Fatality_Ratio     51\n",
       "Length: 14, dtype: int64"
      ]
     },
     "execution_count": 10,
     "metadata": {},
     "output_type": "execute_result"
    }
   ],
   "source": [
    "# Investigating missing values\n",
    "df1.isnull().sum()"
   ]
  },
  {
   "cell_type": "code",
   "execution_count": 11,
   "metadata": {
    "colab": {
     "base_uri": "https://localhost:8080/",
     "height": 300
    },
    "id": "zG5MCVaaX-eW",
    "outputId": "68dd6028-0ec6-494e-adae-64b71efc2a1f"
   },
   "outputs": [
    {
     "data": {
      "text/html": [
       "<div>\n",
       "<style scoped>\n",
       "    .dataframe tbody tr th:only-of-type {\n",
       "        vertical-align: middle;\n",
       "    }\n",
       "\n",
       "    .dataframe tbody tr th {\n",
       "        vertical-align: top;\n",
       "    }\n",
       "\n",
       "    .dataframe thead th {\n",
       "        text-align: right;\n",
       "    }\n",
       "</style>\n",
       "<table border=\"1\" class=\"dataframe\">\n",
       "  <thead>\n",
       "    <tr style=\"text-align: right;\">\n",
       "      <th></th>\n",
       "      <th>Deaths</th>\n",
       "      <th>Recovered</th>\n",
       "    </tr>\n",
       "  </thead>\n",
       "  <tbody>\n",
       "    <tr>\n",
       "      <th>count</th>\n",
       "      <td>3954.000000</td>\n",
       "      <td>3.954000e+03</td>\n",
       "    </tr>\n",
       "    <tr>\n",
       "      <th>mean</th>\n",
       "      <td>228.549823</td>\n",
       "      <td>4.748792e+03</td>\n",
       "    </tr>\n",
       "    <tr>\n",
       "      <th>std</th>\n",
       "      <td>1404.031350</td>\n",
       "      <td>4.839961e+04</td>\n",
       "    </tr>\n",
       "    <tr>\n",
       "      <th>min</th>\n",
       "      <td>0.000000</td>\n",
       "      <td>0.000000e+00</td>\n",
       "    </tr>\n",
       "    <tr>\n",
       "      <th>25%</th>\n",
       "      <td>1.000000</td>\n",
       "      <td>0.000000e+00</td>\n",
       "    </tr>\n",
       "    <tr>\n",
       "      <th>50%</th>\n",
       "      <td>7.000000</td>\n",
       "      <td>0.000000e+00</td>\n",
       "    </tr>\n",
       "    <tr>\n",
       "      <th>75%</th>\n",
       "      <td>43.000000</td>\n",
       "      <td>0.000000e+00</td>\n",
       "    </tr>\n",
       "    <tr>\n",
       "      <th>max</th>\n",
       "      <td>36931.000000</td>\n",
       "      <td>2.387479e+06</td>\n",
       "    </tr>\n",
       "  </tbody>\n",
       "</table>\n",
       "</div>"
      ],
      "text/plain": [
       "             Deaths     Recovered\n",
       "count   3954.000000  3.954000e+03\n",
       "mean     228.549823  4.748792e+03\n",
       "std     1404.031350  4.839961e+04\n",
       "min        0.000000  0.000000e+00\n",
       "25%        1.000000  0.000000e+00\n",
       "50%        7.000000  0.000000e+00\n",
       "75%       43.000000  0.000000e+00\n",
       "max    36931.000000  2.387479e+06"
      ]
     },
     "execution_count": 11,
     "metadata": {},
     "output_type": "execute_result"
    }
   ],
   "source": [
    "df1.describe()[['Deaths','Recovered']]"
   ]
  },
  {
   "cell_type": "markdown",
   "metadata": {},
   "source": [
    "<h1 style=\"font-family: Trebuchet MS; background-color: #8CB743; color: #FFFFFF; padding: 14px; line-height: 1.5;\"> Data Processing</h1></div>"
   ]
  },
  {
   "cell_type": "code",
   "execution_count": 12,
   "metadata": {
    "id": "JVPvYqJ-nTGW"
   },
   "outputs": [],
   "source": [
    "df1.columns=df1.columns.str.lower()"
   ]
  },
  {
   "cell_type": "code",
   "execution_count": 13,
   "metadata": {
    "colab": {
     "base_uri": "https://localhost:8080/"
    },
    "id": "NpgHYRDkiXeS",
    "outputId": "31c8f169-8703-452d-c110-c1ab8ff83691"
   },
   "outputs": [
    {
     "data": {
      "text/plain": [
       "Index(['country_name', 'continent_name', 'continent_code'], dtype='object')"
      ]
     },
     "execution_count": 13,
     "metadata": {},
     "output_type": "execute_result"
    }
   ],
   "source": [
    "df2.columns = df2.columns.str.lower()\n",
    "df2.columns"
   ]
  },
  {
   "cell_type": "code",
   "execution_count": 14,
   "metadata": {
    "colab": {
     "base_uri": "https://localhost:8080/"
    },
    "id": "qHeMf7d0pbud",
    "outputId": "24813208-2df2-47c2-f545-10db7c4cd0be"
   },
   "outputs": [
    {
     "data": {
      "text/plain": [
       "Index(['fips', 'admin2', 'province_state', 'country_region', 'last_update',\n",
       "       'lat', 'long_', 'confirmed', 'deaths', 'recovered', 'active',\n",
       "       'combined_key', 'incidence_rate', 'case-fatality_ratio'],\n",
       "      dtype='object')"
      ]
     },
     "execution_count": 14,
     "metadata": {},
     "output_type": "execute_result"
    }
   ],
   "source": [
    "df1.columns"
   ]
  },
  {
   "cell_type": "code",
   "execution_count": 15,
   "metadata": {
    "id": "pOsFZtsxj2gm"
   },
   "outputs": [],
   "source": [
    "df1.drop(columns=['fips','admin2','province_state'],inplace=True)"
   ]
  },
  {
   "cell_type": "code",
   "execution_count": 16,
   "metadata": {
    "id": "wIdguCBWm2GG"
   },
   "outputs": [],
   "source": [
    "df1['total'] = df1['confirmed'] + df1['deaths'] + df1['recovered']\n",
    "df1['rate_of_cure'] = round((df1['confirmed']/df1['total'])*100,2)"
   ]
  },
  {
   "cell_type": "markdown",
   "metadata": {
    "id": "DxdWNkIHoM2P"
   },
   "source": [
    "### Some Aggregation on Data"
   ]
  },
  {
   "cell_type": "code",
   "execution_count": 17,
   "metadata": {
    "id": "Z7A6uot7mHSm"
   },
   "outputs": [],
   "source": [
    "df_merge=pd.merge(left=df1 ,right=df2 , how='inner', left_on='country_region', right_on='country_name')"
   ]
  },
  {
   "cell_type": "code",
   "execution_count": 18,
   "metadata": {
    "colab": {
     "base_uri": "https://localhost:8080/",
     "height": 179
    },
    "id": "iYgcvpITqH8k",
    "outputId": "8624d284-b056-4a89-c356-5f959a3d229b"
   },
   "outputs": [
    {
     "data": {
      "text/html": [
       "<div>\n",
       "<style scoped>\n",
       "    .dataframe tbody tr th:only-of-type {\n",
       "        vertical-align: middle;\n",
       "    }\n",
       "\n",
       "    .dataframe tbody tr th {\n",
       "        vertical-align: top;\n",
       "    }\n",
       "\n",
       "    .dataframe thead th {\n",
       "        text-align: right;\n",
       "    }\n",
       "</style>\n",
       "<table border=\"1\" class=\"dataframe\">\n",
       "  <thead>\n",
       "    <tr style=\"text-align: right;\">\n",
       "      <th></th>\n",
       "      <th>country_region</th>\n",
       "      <th>last_update</th>\n",
       "      <th>lat</th>\n",
       "      <th>long_</th>\n",
       "      <th>confirmed</th>\n",
       "      <th>deaths</th>\n",
       "      <th>recovered</th>\n",
       "      <th>...</th>\n",
       "      <th>incidence_rate</th>\n",
       "      <th>case-fatality_ratio</th>\n",
       "      <th>total</th>\n",
       "      <th>rate_of_cure</th>\n",
       "      <th>country_name</th>\n",
       "      <th>continent_name</th>\n",
       "      <th>continent_code</th>\n",
       "    </tr>\n",
       "  </thead>\n",
       "  <tbody>\n",
       "    <tr>\n",
       "      <th>0</th>\n",
       "      <td>Afghanistan</td>\n",
       "      <td>2020-09-10 04:29:01</td>\n",
       "      <td>33.93911</td>\n",
       "      <td>67.709953</td>\n",
       "      <td>38544</td>\n",
       "      <td>1420</td>\n",
       "      <td>31048</td>\n",
       "      <td>...</td>\n",
       "      <td>99.012696</td>\n",
       "      <td>3.684101</td>\n",
       "      <td>71012</td>\n",
       "      <td>54.28</td>\n",
       "      <td>Afghanistan</td>\n",
       "      <td>Asia</td>\n",
       "      <td>AS</td>\n",
       "    </tr>\n",
       "  </tbody>\n",
       "</table>\n",
       "<p>1 rows × 16 columns</p>\n",
       "</div>"
      ],
      "text/plain": [
       "  country_region          last_update       lat      long_  confirmed  deaths  \\\n",
       "0    Afghanistan  2020-09-10 04:29:01  33.93911  67.709953      38544    1420   \n",
       "\n",
       "   recovered  ...  incidence_rate case-fatality_ratio  total  rate_of_cure  \\\n",
       "0      31048  ...       99.012696            3.684101  71012         54.28   \n",
       "\n",
       "   country_name  continent_name continent_code  \n",
       "0   Afghanistan            Asia             AS  \n",
       "\n",
       "[1 rows x 16 columns]"
      ]
     },
     "execution_count": 18,
     "metadata": {},
     "output_type": "execute_result"
    }
   ],
   "source": [
    "df_merge.head(1)"
   ]
  },
  {
   "cell_type": "markdown",
   "metadata": {
    "id": "uJRvbgtjqhdE"
   },
   "source": [
    "### Top 10 Countries for Deaths"
   ]
  },
  {
   "cell_type": "code",
   "execution_count": 19,
   "metadata": {
    "colab": {
     "base_uri": "https://localhost:8080/",
     "height": 394
    },
    "id": "SAFMPkJjqKf0",
    "outputId": "dcf65928-7432-4ccf-aeab-18a58851d5e7"
   },
   "outputs": [
    {
     "data": {
      "text/html": [
       "<div>\n",
       "<style scoped>\n",
       "    .dataframe tbody tr th:only-of-type {\n",
       "        vertical-align: middle;\n",
       "    }\n",
       "\n",
       "    .dataframe tbody tr th {\n",
       "        vertical-align: top;\n",
       "    }\n",
       "\n",
       "    .dataframe thead th {\n",
       "        text-align: right;\n",
       "    }\n",
       "</style>\n",
       "<table border=\"1\" class=\"dataframe\">\n",
       "  <thead>\n",
       "    <tr style=\"text-align: right;\">\n",
       "      <th></th>\n",
       "      <th>deaths</th>\n",
       "    </tr>\n",
       "    <tr>\n",
       "      <th>country_name</th>\n",
       "      <th></th>\n",
       "    </tr>\n",
       "  </thead>\n",
       "  <tbody>\n",
       "    <tr>\n",
       "      <th>US</th>\n",
       "      <td>190859</td>\n",
       "    </tr>\n",
       "    <tr>\n",
       "      <th>Brazil</th>\n",
       "      <td>128539</td>\n",
       "    </tr>\n",
       "    <tr>\n",
       "      <th>India</th>\n",
       "      <td>75062</td>\n",
       "    </tr>\n",
       "    <tr>\n",
       "      <th>Mexico</th>\n",
       "      <td>69049</td>\n",
       "    </tr>\n",
       "    <tr>\n",
       "      <th>United Kingdom</th>\n",
       "      <td>41683</td>\n",
       "    </tr>\n",
       "    <tr>\n",
       "      <th>Italy</th>\n",
       "      <td>35577</td>\n",
       "    </tr>\n",
       "    <tr>\n",
       "      <th>France</th>\n",
       "      <td>30805</td>\n",
       "    </tr>\n",
       "    <tr>\n",
       "      <th>Peru</th>\n",
       "      <td>30123</td>\n",
       "    </tr>\n",
       "    <tr>\n",
       "      <th>Spain</th>\n",
       "      <td>29628</td>\n",
       "    </tr>\n",
       "    <tr>\n",
       "      <th>Iran</th>\n",
       "      <td>22669</td>\n",
       "    </tr>\n",
       "  </tbody>\n",
       "</table>\n",
       "</div>"
      ],
      "text/plain": [
       "                deaths\n",
       "country_name          \n",
       "US              190859\n",
       "Brazil          128539\n",
       "India            75062\n",
       "Mexico           69049\n",
       "United Kingdom   41683\n",
       "Italy            35577\n",
       "France           30805\n",
       "Peru             30123\n",
       "Spain            29628\n",
       "Iran             22669"
      ]
     },
     "execution_count": 19,
     "metadata": {},
     "output_type": "execute_result"
    }
   ],
   "source": [
    "df_merge.groupby('country_name').agg({'deaths':'sum'}).sort_values('deaths',ascending=False).head(10)"
   ]
  },
  {
   "cell_type": "code",
   "execution_count": 20,
   "metadata": {
    "colab": {
     "base_uri": "https://localhost:8080/"
    },
    "id": "NVWWG2T8rAls",
    "outputId": "d09fa5d1-141f-4d0e-8b24-9f09faa62c9f"
   },
   "outputs": [
    {
     "data": {
      "text/plain": [
       "Index(['country_region', 'last_update', 'lat', 'long_', 'confirmed', 'deaths',\n",
       "       'recovered', 'active', 'combined_key', 'incidence_rate',\n",
       "       'case-fatality_ratio', 'total', 'rate_of_cure'],\n",
       "      dtype='object')"
      ]
     },
     "execution_count": 20,
     "metadata": {},
     "output_type": "execute_result"
    }
   ],
   "source": [
    "df1.columns"
   ]
  },
  {
   "cell_type": "code",
   "execution_count": 21,
   "metadata": {
    "colab": {
     "base_uri": "https://localhost:8080/",
     "height": 394
    },
    "id": "AADn1Drxq3oU",
    "outputId": "54f5c3e8-c286-4d61-9753-c8f7b765c9c6"
   },
   "outputs": [
    {
     "data": {
      "text/html": [
       "<div>\n",
       "<style scoped>\n",
       "    .dataframe tbody tr th:only-of-type {\n",
       "        vertical-align: middle;\n",
       "    }\n",
       "\n",
       "    .dataframe tbody tr th {\n",
       "        vertical-align: top;\n",
       "    }\n",
       "\n",
       "    .dataframe thead th {\n",
       "        text-align: right;\n",
       "    }\n",
       "</style>\n",
       "<table border=\"1\" class=\"dataframe\">\n",
       "  <thead>\n",
       "    <tr style=\"text-align: right;\">\n",
       "      <th></th>\n",
       "      <th>recovered</th>\n",
       "    </tr>\n",
       "    <tr>\n",
       "      <th>country_name</th>\n",
       "      <th></th>\n",
       "    </tr>\n",
       "  </thead>\n",
       "  <tbody>\n",
       "    <tr>\n",
       "      <th>Brazil</th>\n",
       "      <td>3611632</td>\n",
       "    </tr>\n",
       "    <tr>\n",
       "      <th>India</th>\n",
       "      <td>3471783</td>\n",
       "    </tr>\n",
       "    <tr>\n",
       "      <th>US</th>\n",
       "      <td>2387479</td>\n",
       "    </tr>\n",
       "    <tr>\n",
       "      <th>Russia</th>\n",
       "      <td>854069</td>\n",
       "    </tr>\n",
       "    <tr>\n",
       "      <th>South Africa</th>\n",
       "      <td>569935</td>\n",
       "    </tr>\n",
       "    <tr>\n",
       "      <th>Colombia</th>\n",
       "      <td>552885</td>\n",
       "    </tr>\n",
       "    <tr>\n",
       "      <th>Mexico</th>\n",
       "      <td>538514</td>\n",
       "    </tr>\n",
       "    <tr>\n",
       "      <th>Peru</th>\n",
       "      <td>536959</td>\n",
       "    </tr>\n",
       "    <tr>\n",
       "      <th>Chile</th>\n",
       "      <td>399555</td>\n",
       "    </tr>\n",
       "    <tr>\n",
       "      <th>Argentina</th>\n",
       "      <td>382490</td>\n",
       "    </tr>\n",
       "  </tbody>\n",
       "</table>\n",
       "</div>"
      ],
      "text/plain": [
       "              recovered\n",
       "country_name           \n",
       "Brazil          3611632\n",
       "India           3471783\n",
       "US              2387479\n",
       "Russia           854069\n",
       "South Africa     569935\n",
       "Colombia         552885\n",
       "Mexico           538514\n",
       "Peru             536959\n",
       "Chile            399555\n",
       "Argentina        382490"
      ]
     },
     "execution_count": 21,
     "metadata": {},
     "output_type": "execute_result"
    }
   ],
   "source": [
    "df_merge.groupby('country_name').agg({'recovered':'sum'}).sort_values('recovered',ascending=False).head(10)"
   ]
  },
  {
   "cell_type": "code",
   "execution_count": 22,
   "metadata": {
    "colab": {
     "base_uri": "https://localhost:8080/"
    },
    "id": "GJN4_DQytqdt",
    "outputId": "892d626e-c4ff-4848-88a3-5a208b19dc50"
   },
   "outputs": [
    {
     "data": {
      "text/plain": [
       "Index(['country_region', 'last_update', 'lat', 'long_', 'confirmed', 'deaths',\n",
       "       'recovered', 'active', 'combined_key', 'incidence_rate',\n",
       "       'case-fatality_ratio', 'total', 'rate_of_cure', 'country_name',\n",
       "       'continent_name', 'continent_code'],\n",
       "      dtype='object')"
      ]
     },
     "execution_count": 22,
     "metadata": {},
     "output_type": "execute_result"
    }
   ],
   "source": [
    "df_merge.columns"
   ]
  },
  {
   "cell_type": "code",
   "execution_count": 23,
   "metadata": {
    "id": "mW7xkZrjtPY8"
   },
   "outputs": [],
   "source": [
    "grouped_pivot = pd.pivot_table(df_merge,index=['country_region'],columns='continent_code', values='deaths')"
   ]
  },
  {
   "cell_type": "code",
   "execution_count": 24,
   "metadata": {
    "colab": {
     "base_uri": "https://localhost:8080/",
     "height": 594
    },
    "id": "y6DjFzaYtOzt",
    "outputId": "0e58213d-e922-4c40-d732-ab20f7923aa8"
   },
   "outputs": [
    {
     "data": {
      "image/png": "[encoded data removed]",
      "text/plain": [
       "<Figure size 1000x1000 with 2 Axes>"
      ]
     },
     "metadata": {},
     "output_type": "display_data"
    }
   ],
   "source": [
    "#use the grouped results\n",
    "plt.pcolor(grouped_pivot, cmap='RdBu')\n",
    "plt.colorbar()\n",
    "plt.show()"
   ]
  }
 ],
 "metadata": {
  "colab": {
   "collapsed_sections": [],
   "provenance": []
  },
  "kernelspec": {
   "display_name": "Python 3 (ipykernel)",
   "language": "python",
   "name": "python3"
  },
  "language_info": {
   "codemirror_mode": {
    "name": "ipython",
    "version": 3
   },
   "file_extension": ".py",
   "mimetype": "text/x-python",
   "name": "python",
   "nbconvert_exporter": "python",
   "pygments_lexer": "ipython3",
   "version": "3.10.2"
  }
 },
 "nbformat": 4,
 "nbformat_minor": 1
}
